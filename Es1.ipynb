{
  "nbformat": 4,
  "nbformat_minor": 0,
  "metadata": {
    "colab": {
      "provenance": [],
      "authorship_tag": "ABX9TyNPFvz0Y9oASW1ualdlCLEa",
      "include_colab_link": true
    },
    "kernelspec": {
      "name": "python3",
      "display_name": "Python 3"
    },
    "language_info": {
      "name": "python"
    }
  },
  "cells": [
    {
      "cell_type": "markdown",
      "metadata": {
        "id": "view-in-github",
        "colab_type": "text"
      },
      "source": [
        "<a href=\"https://colab.research.google.com/github/simonc999/Bioinformatics_python_project/blob/main/Es1.ipynb\" target=\"_parent\"><img src=\"https://colab.research.google.com/assets/colab-badge.svg\" alt=\"Open In Colab\"/></a>"
      ]
    },
    {
      "cell_type": "markdown",
      "source": [
        "# Progetto di bioinformatica\n"
      ],
      "metadata": {
        "id": "aKaRSsJxfoUc"
      }
    },
    {
      "cell_type": "markdown",
      "source": [
        "### Esercitazione 1\n",
        "Definiamo il codice genetico che codifica per gli amminoacidi."
      ],
      "metadata": {
        "id": "rCtDn4fwfvxq"
      }
    },
    {
      "cell_type": "code",
      "execution_count": null,
      "metadata": {
        "id": "nhHVGmavfY7_"
      },
      "outputs": [],
      "source": [
        "codoni_genetici = {\n",
        "    'TTT': 'Fenilalanina',\n",
        "    'TTC': 'Fenilalanina',\n",
        "    'TTA': 'Leucina',\n",
        "    'TTG': 'Leucina',\n",
        "    'CTT': 'Leucina',\n",
        "    'CTC': 'Leucina',\n",
        "    'CTA': 'Leucina',\n",
        "    'CTG': 'Leucina',\n",
        "    'ATT': 'Isoleucina',\n",
        "    'ATC': 'Isoleucina',\n",
        "    'ATA': 'Isoleucina',\n",
        "    'ATG': 'Metionina',\n",
        "    'GTT': 'Valina',\n",
        "    'GTC': 'Valina',\n",
        "    'GTA': 'Valina',\n",
        "    'GTG': 'Valina',\n",
        "    'TCT': 'Serina',\n",
        "    'TCC': 'Serina',\n",
        "    'TCA': 'Serina',\n",
        "    'TCG': 'Serina',\n",
        "    'CCT': 'Prolina',\n",
        "    'CCC': 'Prolina',\n",
        "    'CCA': 'Prolina',\n",
        "    'CCG': 'Prolina',\n",
        "    'ACT': 'Treonina',\n",
        "    'ACC': 'Treonina',\n",
        "    'ACA': 'Treonina',\n",
        "    'ACG': 'Treonina',\n",
        "    'GCT': 'Alanina',\n",
        "    'GCC': 'Alanina',\n",
        "    'GCA': 'Alanina',\n",
        "    'GCG': 'Alanina',\n",
        "    'TAT': 'Tirosina',\n",
        "    'TAC': 'Tirosina',\n",
        "    'TAA': 'Stop',\n",
        "    'TAG': 'Stop',\n",
        "    'CAT': 'Istidina',\n",
        "    'CAC': 'Istidina',\n",
        "    'CAA': 'Glutammina',\n",
        "    'CAG': 'Glutammina',\n",
        "    'AAT': 'Asparagina',\n",
        "    'AAC': 'Asparagina',\n",
        "    'AAA': 'Lisina',\n",
        "    'AAG': 'Lisina',\n",
        "    'GAT': 'Aspartato',\n",
        "    'GAC': 'Aspartato',\n",
        "    'GAA': 'Acido glutammico',\n",
        "    'GAG': 'Acido glutammico',\n",
        "    'TGT': 'Cisteina',\n",
        "    'TGC': 'Cisteina',\n",
        "    'TGA': 'Stop',\n",
        "    'TGG': 'Triptofano',\n",
        "    'CGT': 'Arginina',\n",
        "    'CGC': 'Arginina',\n",
        "    'CGA': 'Arginina',\n",
        "    'CGG': 'Arginina',\n",
        "    'AGT': 'Serina',\n",
        "    'AGC': 'Serina',\n",
        "    'AGA': 'Arginina',\n",
        "    'AGG': 'Arginina',\n",
        "    'GGT': 'Glicina',\n",
        "    'GGC': 'Glicina',\n",
        "    'GGA': 'Glicina',\n",
        "    'GGG': 'Glicina'\n",
        "}\n"
      ]
    },
    {
      "cell_type": "markdown",
      "source": [
        "Utilizzando NCBI è importante codificare i codoni con le lettere inerenti alle proteine utilizzate dalla convenzione del sito ufficiale NCBI."
      ],
      "metadata": {
        "id": "ZNRktTWfgDcG"
      }
    },
    {
      "cell_type": "code",
      "source": [
        "codoni_genetici_ncbi = {\n",
        "    'TTT': 'F',\n",
        "    'TTC': 'F',\n",
        "    'TTA': 'L',\n",
        "    'TTG': 'L',\n",
        "    'CTT': 'L',\n",
        "    'CTC': 'L',\n",
        "    'CTA': 'L',\n",
        "    'CTG': 'L',\n",
        "    'ATT': 'I',\n",
        "    'ATC': 'I',\n",
        "    'ATA': 'I',\n",
        "    'ATG': 'M',\n",
        "    'GTT': 'V',\n",
        "    'GTC': 'V',\n",
        "    'GTA': 'V',\n",
        "    'GTG': 'V',\n",
        "    'TCT': 'S',\n",
        "    'TCC': 'S',\n",
        "    'TCA': 'S',\n",
        "    'TCG': 'S',\n",
        "    'CCT': 'P',\n",
        "    'CCC': 'P',\n",
        "    'CCA': 'P',\n",
        "    'CCG': 'P',\n",
        "    'ACT': 'T',\n",
        "    'ACC': 'T',\n",
        "    'ACA': 'T',\n",
        "    'ACG': 'T',\n",
        "    'GCT': 'A',\n",
        "    'GCC': 'A',\n",
        "    'GCA': 'A',\n",
        "    'GCG': 'A',\n",
        "    'TAT': 'Y',\n",
        "    'TAC': 'Y',\n",
        "    'TAA': '*',\n",
        "    'TAG': '*',\n",
        "    'CAT': 'H',\n",
        "    'CAC': 'H',\n",
        "    'CAA': 'Q',\n",
        "    'CAG': 'Q',\n",
        "    'AAT': 'N',\n",
        "    'AAC': 'N',\n",
        "    'AAA': 'K',\n",
        "    'AAG': 'K',\n",
        "    'GAT': 'D',\n",
        "    'GAC': 'D',\n",
        "    'GAA': 'E',\n",
        "    'GAG': 'E',\n",
        "    'TGT': 'C',\n",
        "    'TGC': 'C',\n",
        "    'TGA': '*',\n",
        "    'TGG': 'W',\n",
        "    'CGT': 'R',\n",
        "    'CGC': 'R',\n",
        "    'CGA': 'R',\n",
        "    'CGG': 'R',\n",
        "    'AGT': 'S',\n",
        "    'AGC': 'S',\n",
        "    'AGA': 'R',\n",
        "    'AGG': 'R',\n",
        "    'GGT': 'G',\n",
        "    'GGC': 'G',\n",
        "    'GGA': 'G',\n",
        "    'GGG': 'G'\n",
        "}\n"
      ],
      "metadata": {
        "id": "M8FHkPHUgdCF"
      },
      "execution_count": null,
      "outputs": []
    },
    {
      "cell_type": "markdown",
      "source": [
        "#### Reverse complement\n",
        "Inseriamo la funzione per effettuare il reverse complement data una sequenza di DNA."
      ],
      "metadata": {
        "id": "5qP1q7dCggCQ"
      }
    },
    {
      "cell_type": "code",
      "source": [
        "def reverse_complement(dna_strand):\n",
        "    complement_dict = {'A': 'T', 'T': 'A', 'C': 'G', 'G': 'C'}\n",
        "    reverse_comp = ''.join(complement_dict[base] for base in reversed(dna_strand))\n",
        "    return reverse_comp"
      ],
      "metadata": {
        "id": "lIEPoA01g0kY"
      },
      "execution_count": null,
      "outputs": []
    },
    {
      "cell_type": "markdown",
      "source": [
        "## Utilizzo di re\n"
      ],
      "metadata": {
        "id": "96PK17hpgYRY"
      }
    },
    {
      "cell_type": "code",
      "source": [
        "import re\n",
        "# re.search(\"pattern\", string) # output è un oggetto Match\n",
        "# re.match(\"pattern\", string) # uguale a search, ma il match deve essere nell’intera stringa\n",
        "# re.finditer(\"pattern\", string) # output è una lista di oggetti Match\n",
        "# re.findall(\"pattern\", string) # output è una lista di stringhe relative al pattern trovato\n",
        "# re.split(\"pattern\", string) # output è una lista di stringhe delimitate dal pattern\n",
        "\n",
        "# Esempio di ricerca pattern\n",
        "dna = \"ATCGCGAATTCAC\"\n",
        "\n",
        "if re.search(r\"GAATTC\", dna): # stringa esatta\n",
        "  print(\"EcoRI restriction site found!\")\n",
        "if re.search(r\"GGACC\", dna) or re.search(r\"GGTCC\", dna): # pattern GGWCC (W significa A o T)\n",
        "# Oppure si sfruttano le potenzialità di re per ottenere delle espressioni equivalenti:\n",
        "# \"GG(A|T)CC“ \"GG[AT]CC\" \"(GGACC|GGTCC)\" \"(GGA|GGT)CC\"\n",
        "\n",
        "# computazionalmente più efficacie\n",
        "  print(\"restriction site found!\")\n"
      ],
      "metadata": {
        "id": "Ndqy1bRUgqZC",
        "outputId": "c5c6104b-fb0b-45d2-bff9-3f58779aec14",
        "colab": {
          "base_uri": "https://localhost:8080/"
        }
      },
      "execution_count": null,
      "outputs": [
        {
          "output_type": "stream",
          "name": "stdout",
          "text": [
            "EcoRI restriction site found!\n"
          ]
        }
      ]
    },
    {
      "cell_type": "code",
      "source": [
        "# Ora vediamo come si usano caratteri chiave per espressioni regolari\n",
        "\n",
        "# Operatori posizionali\n",
        "# ^ ci permette di cercare patern imponendo che sia all'inizio della stringa\n",
        "# $ me lo cerca alla fine\n",
        "import re\n",
        "s = \"ATCCGAAAAATCGCAC\"\n",
        "m = re.search(r\"^ATCC\",s)\n",
        "m1 = re.search(r\"GCAC$\",s)\n",
        "if m:\n",
        "  print(m.group(), m.start(), m.end())\n",
        "if m1:\n",
        "  print(m1.group(), m1.start(), m1.end())\n",
        "\n",
        "\n"
      ],
      "metadata": {
        "id": "SixV7I_Khrvv",
        "outputId": "44c7c499-7cb6-4f5f-c605-a82681ae3261",
        "colab": {
          "base_uri": "https://localhost:8080/"
        }
      },
      "execution_count": null,
      "outputs": [
        {
          "output_type": "stream",
          "name": "stdout",
          "text": [
            "ATCC 0 4\n"
          ]
        }
      ]
    },
    {
      "cell_type": "code",
      "source": [
        "\n",
        "# se voglio fare entrambi posso o fare and (ma computazionalmente più scarso)\n",
        "s = \"ATCCGAAAAATCGCAC\"\n",
        "m = re.search(r\"^ATCC([ATCG])CAC$\",s) # se faccio ([ATCG]) definisco un solo carattere tra ATCG, devo metterci i quantificatori\n",
        "m1 = re.search(r\"$GCAC\",s)\n",
        "if m:\n",
        "  print(m.group(), m.start(), m.end())\n",
        "\n",
        "# quantificatori\n",
        "# + almeno 1\n",
        "# * 0-inf\n",
        "# ? 0 o 1\n",
        "# e numerosità che può essere esatta {5} oppure range {2,5} oppure {2,} {,5}\n",
        "\n",
        "# aggiungo quindi *\n",
        "s = \"ATCCGAAAAATCGCAC\"\n",
        "m = re.search(r\"^ATCC([ATCG])*CAC$\",s)\n",
        "m1 = re.search(r\"$GCAC\",s)\n",
        "if m:\n",
        "  print(m.group(), m.start(), m.end())"
      ],
      "metadata": {
        "id": "V6q0bRFEh4Yn"
      },
      "execution_count": null,
      "outputs": []
    },
    {
      "cell_type": "code",
      "source": [
        "# proteine\n",
        "p = \"MATKAKKKGHLIKTLVA\"\n",
        "# i caratteri illegali sono BJOUXZ\n",
        "# se trovo almeno un carattere di questi la proteina non è scritta bene\n",
        "# usiamo la negazione dell'insieme e verifico se è presente\n",
        "m = re.search(r\"^[^BJOUXZ]+$\",p)\n",
        "# [BJOUXZ] vero se ritrovo un carattere tra questi\n",
        "# [^BJOUXZ] vero se ritrovo un carattere NON tra questi\n",
        "# ^[^BJOUXZ] vero se ritrovo un carattere non tra questi che inizia DALL'INIZIO\n",
        "# ^[^BJOUXZ]+ vero se ritrovo ALMENO un carattere non tra questi che inizia dall'inizio\n",
        "# ^[^BJOUXZ]+$ vero se ritrovo almeno un carattere non tra questi che inizia dall'inizio e termina alla fine\n",
        "if m:\n",
        "  print(\"ok\" , m.group())\n",
        "else:\n",
        "  print(\"no\")\n"
      ],
      "metadata": {
        "id": "tToLHKL5l_1D",
        "outputId": "e70e0d65-f2d2-476c-afbd-107440e70f19",
        "colab": {
          "base_uri": "https://localhost:8080/"
        }
      },
      "execution_count": null,
      "outputs": [
        {
          "output_type": "stream",
          "name": "stdout",
          "text": [
            "ok\n"
          ]
        }
      ]
    },
    {
      "cell_type": "code",
      "source": [
        "s = \"ATCGTTTTTCAC\"\n",
        "# ipotizziamo di essere interessati di trovare un pattern con T da 3 in su\n",
        "M = re.finditer(r\"T{2}\",s) # qua cerca le coppie di T\n",
        "# ATTENZIONE: i pattern non si possono sovrapporre, ogni volta che trovo un pattern lo \"consumo\"\n",
        "if M:\n",
        "  for m in M:\n",
        "    print(m.group(),m.start(), m.end())\n",
        "else:\n",
        "  print(\"non lo trovo\")\n",
        "\n",
        "# con la search avrebbe trovato solo il primo\n",
        "\n"
      ],
      "metadata": {
        "id": "qlai-RiDp1FT",
        "outputId": "de77bb47-da7f-4b26-ef1c-9d01a31a24dd",
        "colab": {
          "base_uri": "https://localhost:8080/"
        }
      },
      "execution_count": null,
      "outputs": [
        {
          "output_type": "stream",
          "name": "stdout",
          "text": [
            "TT 4 6\n",
            "TT 6 8\n"
          ]
        }
      ]
    },
    {
      "cell_type": "code",
      "source": [
        "s = \"ATCGTTTTTTCAC\"\n",
        "\n",
        "M = re.search(r\"T{3,}\",s)\n",
        "if M:\n",
        "    print(M.group(),M.start(),M.end())\n",
        "else:\n",
        "  print(\"non lo trovo\")\n",
        "\n",
        "# i quantificatori di python sono greedy: trovano in questo caso il più lungo\n",
        "# per evitare questa cosa usiamo ? a valle del quantificatore stesso trasformandolo in non greedy\n"
      ],
      "metadata": {
        "id": "EE7kxeiPr1BX",
        "outputId": "04f35419-87d0-4b39-b141-f17652b6aa7d",
        "colab": {
          "base_uri": "https://localhost:8080/"
        }
      },
      "execution_count": null,
      "outputs": [
        {
          "output_type": "stream",
          "name": "stdout",
          "text": [
            "TTTTT 4 9\n"
          ]
        }
      ]
    },
    {
      "cell_type": "code",
      "source": [
        "s = \"ATCGTTTTTTCAC\"\n",
        "\n",
        "# quantificatori NON GREEDY\n",
        "# +? almeno 1\n",
        "# *? 0-inf\n",
        "# ?? 0 o 1\n",
        "# e numerosità che può essere esatta {5}? oppure range {2,5}? oppure {2,}? {,5}?\n",
        "M = re.finditer(r\"T{3,}?\",s) # qua cerca TUTTI i pattern di T almeno di 3\n",
        "if M:\n",
        "  for m in M:\n",
        "    print(m.group(),m.start(), m.end())\n",
        "else:\n",
        "  print(\"non lo trovo\")"
      ],
      "metadata": {
        "id": "6j-YPdyBsT88",
        "outputId": "2f6d2d75-808c-4189-eda3-b59df1c59daa",
        "colab": {
          "base_uri": "https://localhost:8080/"
        }
      },
      "execution_count": null,
      "outputs": [
        {
          "output_type": "stream",
          "name": "stdout",
          "text": [
            "TTT 4 7\n",
            "TTT 7 10\n"
          ]
        }
      ]
    },
    {
      "cell_type": "code",
      "source": [
        "# REFERENCING\n",
        "# ci permette di richiamare pattern che io cerco all'interno di una stringa\n",
        "# se io voglio riconoscere una stringa in cui c'è un'identità\n",
        "import re\n",
        "s = \"x=x\"\n",
        "m = re.search(r\"[A-Za-z]=[A-Za-z]\",s)\n",
        "if m:\n",
        "  print(\"ok\" , m.group())"
      ],
      "metadata": {
        "id": "P3mzdbcytVoL",
        "outputId": "3076ea9e-3b38-4465-d449-b5b822b3c97b",
        "colab": {
          "base_uri": "https://localhost:8080/"
        }
      },
      "execution_count": null,
      "outputs": [
        {
          "output_type": "stream",
          "name": "stdout",
          "text": [
            "ok x=y\n"
          ]
        }
      ]
    },
    {
      "cell_type": "code",
      "source": [
        "s = \"x=y\"\n",
        "m = re.search(r\"[A-Za-z]=[A-Za-z]\",s)\n",
        "if m:\n",
        "  print(\"ok\" , m.group())"
      ],
      "metadata": {
        "id": "6_jQrMaGt5eZ",
        "outputId": "57b3a510-ee64-43dc-957a-da152118fc45",
        "colab": {
          "base_uri": "https://localhost:8080/"
        }
      },
      "execution_count": null,
      "outputs": [
        {
          "output_type": "stream",
          "name": "stdout",
          "text": [
            "ok x=y\n"
          ]
        }
      ]
    },
    {
      "cell_type": "code",
      "source": [
        "# COME FACCIO A TROVARE CHE IL PRIMO = SECONDO?\n",
        "# uso referencing: operatore \\ e poi numero\n",
        "\n",
        "s = \"x=x\"\n",
        "m = re.search(r\"([A-Za-z])=\\1\",s) # con il \\1 faccio riferimento al primo carattere interno alle parentesi tonde\n",
        "if m:\n",
        "  print(\"1--ok\" , m.group())\n",
        "\n",
        "s = \"x=y\"\n",
        "m = re.search(r\"([A-Za-z])=\\1\",s)\n",
        "if m:\n",
        "  print(\"ok\" , m.group())\n",
        "else:\n",
        "    print(\"2--no\")"
      ],
      "metadata": {
        "id": "8rICmyYut8kc",
        "outputId": "73fa3e01-e4d0-4b1b-934e-ae1b74902b19",
        "colab": {
          "base_uri": "https://localhost:8080/"
        }
      },
      "execution_count": null,
      "outputs": [
        {
          "output_type": "stream",
          "name": "stdout",
          "text": [
            "ok x=x\n",
            "no\n"
          ]
        }
      ]
    },
    {
      "cell_type": "code",
      "source": [
        "# come faccio ad usare parentesi senza che si conteggino con il referencing?\n",
        "# usiamo il ?: esattamente dopo una tonda\n",
        "s = \"Ax=x\"\n",
        "m = re.search(r\"A([A-Za-z])=\\1\",s)\n",
        "if m:\n",
        "  print(\"ok\" , m.group())\n",
        "else:\n",
        "    print(\"2--no\")"
      ],
      "metadata": {
        "id": "8Ud6Sd3Cu1ST",
        "outputId": "757a9622-fb14-416c-830b-016bab2d40f3",
        "colab": {
          "base_uri": "https://localhost:8080/"
        }
      },
      "execution_count": null,
      "outputs": [
        {
          "output_type": "stream",
          "name": "stdout",
          "text": [
            "ok Ax=x\n"
          ]
        }
      ]
    },
    {
      "cell_type": "code",
      "source": [
        "s = \"Ax=x\"\n",
        "m = re.search(r\"(A|B)([A-Za-z])=\\1\",s)\n",
        "if m:\n",
        "  print(\"ok\" , m.group())\n",
        "else:\n",
        "    print(\"2--no\") # mi da no perchè prende la prima parentesi"
      ],
      "metadata": {
        "id": "RqSyq3jTvTdT",
        "outputId": "3d96756c-1a39-40b7-b3ce-4f828f74678b",
        "colab": {
          "base_uri": "https://localhost:8080/"
        }
      },
      "execution_count": null,
      "outputs": [
        {
          "output_type": "stream",
          "name": "stdout",
          "text": [
            "2--no\n"
          ]
        }
      ]
    },
    {
      "cell_type": "code",
      "source": [
        "s = \"Ax=x\"\n",
        "m = re.search(r\"(?:A|B)([A-Za-z])=\\1\",s) # facendo così posso ovviare\n",
        "if m:\n",
        "  print(\"ok\" , m.group())\n",
        "else:\n",
        "    print(\"2--no\")"
      ],
      "metadata": {
        "id": "qjOayNtGvcsy",
        "outputId": "5c8ff06d-a930-4d4a-b3a1-cd3b12a1abe9",
        "colab": {
          "base_uri": "https://localhost:8080/"
        }
      },
      "execution_count": null,
      "outputs": [
        {
          "output_type": "stream",
          "name": "stdout",
          "text": [
            "ok Ax=x\n"
          ]
        }
      ]
    },
    {
      "cell_type": "code",
      "source": [
        "# posso anche stampare un sotto-pattern\n",
        "s = \"Ax=x\"\n",
        "m = re.search(r\"(?:A|B)([A-Za-z])=\\1\",s) # facendo così posso ovviare\n",
        "if m:\n",
        "  print(\"ok\" , m.group(1))\n",
        "else:\n",
        "    print(\"2--no\")\n",
        "\n",
        "\n",
        "# ESEMPI\n",
        "# r\"^([a-z]+)([0-9]+)=\\1\\2$\" x12 = x12 qualsiasi lettera + numero\n",
        "# \\1 si riferisce alla lettera e il 2 al numero"
      ],
      "metadata": {
        "id": "yNcH_4H8wnHb",
        "outputId": "5a6cef4f-f14f-4e59-abf2-bd704566050e",
        "colab": {
          "base_uri": "https://localhost:8080/"
        }
      },
      "execution_count": null,
      "outputs": [
        {
          "output_type": "stream",
          "name": "stdout",
          "text": [
            "ok x\n"
          ]
        }
      ]
    },
    {
      "cell_type": "code",
      "source": [
        "# ESEMPIO CON FIND ALL\n",
        "# Ci restituisce una stringa e non un oggetto Match\n",
        "\n",
        "# -------------       \"^G+[AUGC]{30,90}A{5,10}$\"\n",
        "\n",
        "# abbiamo rna che imponiamo cominci con G e poi abbiamo range di occorrenze di caratteri\n",
        "# AUCG presi dai 30 ai 90, poi abbiamo ripetizioni di A presi tra i 5 e i 10\n",
        "\n",
        "\n",
        "# -------------       \"G{2}[AT]C{2}\"\n",
        "# G preso esattamente 2 volte un valore tra A e T e esattamente due C\n",
        "\n",
        "# \"[^@]+@.+\\.[a-z]+\"\n",
        "# qualunque esclusa chiocciola poi chiocciola\n",
        "# il primo punto indica un carattere qualunque\n",
        "# il secondo punto invece con la barra indica il carattere punto\n",
        "# . (qualunque carattere escluso il new line)\n",
        "# \\. voglio il carattere punto\n",
        "\n",
        "\n",
        "# -------------        \"^[a-z0-9]+[\\.\\-]*[a-z0-9]+@(gmail|googlemail)\\.com$\"\n",
        "# ^[a-z0-9]+ insieme di caratteri alfanumerici dall'inizio della stringa (almeno 1)\n",
        "# [\\.\\-]* carattere sia eventualmente (* --> da 0 a infinito) o un . o un -\n",
        "\n",
        "\n",
        "# -------------        \"^([a-z]+)\\s*=\\s*\\1$\"\n",
        "# \\s riconoscono anche spazi vicini all'uguale\n",
        "# \\n il new line, \\r il return, \\t il tabulatore, \\f form feed\n"
      ],
      "metadata": {
        "id": "E-wqEoXwJSk2"
      },
      "execution_count": null,
      "outputs": []
    },
    {
      "cell_type": "code",
      "source": [
        "# scrivere un codice che riconosce indirizzo mail dell'università di pavia\n",
        "\n",
        "import re\n",
        "\n",
        "#nome.cognomeNN@universitadipavia.it\n",
        "\n",
        "#r\"^[a-z]+\\.[a-z]+[0-9][0-9]@universitadipavia\\.it$\"\n",
        "#r\"^[a-z]+\\.[a-z]+[0-9]{2}@universitadipavia\\.it$\"\n",
        "\n",
        "s = \"aaaaaa.bbbbbb01@universitadipavia.it\"\n",
        "# per il cognome\n",
        "m = re.search(r\"^[a-z]+\\.([a-z]+)[0-9]{2}@universitadipavia\\.it$\",s)\n",
        "if m:\n",
        "  print (\"Pattern totale:\", m.group())\n",
        "  print (\"Cognome:\", m.group(1))\n",
        "else:\n",
        "  print(\"non è una mail\")\n"
      ],
      "metadata": {
        "colab": {
          "base_uri": "https://localhost:8080/"
        },
        "id": "Nii48aeyMAFs",
        "outputId": "76befec8-96eb-4d6a-c75b-922931aba297"
      },
      "execution_count": null,
      "outputs": [
        {
          "output_type": "stream",
          "name": "stdout",
          "text": [
            "Pattern totale: aaaaaa.bbbbbb01@universitadipavia.it\n",
            "Cognome: bbbbbb\n"
          ]
        }
      ]
    },
    {
      "cell_type": "code",
      "source": [
        "s = \"ATCGTTTTTTCA\"\n",
        "m = re.finditer(r\"(?:C|G)+T{3,}?\",s)  # ?: elimino il referencing\n",
        "if m:\n",
        "    for mm in m:\n",
        "      print(mm.group(),mm.start(),mm.end())\n",
        "      # print(mm.group(1))\n",
        "else:\n",
        "    print(\"no\")\n",
        "\n",
        "# DA ERRORE E NON TROVA IL GRUPPO\n"
      ],
      "metadata": {
        "id": "sOXtiMRxNmHp",
        "outputId": "ad9f1951-ed66-4259-8bb7-bf867632a1ce",
        "colab": {
          "base_uri": "https://localhost:8080/"
        }
      },
      "execution_count": null,
      "outputs": [
        {
          "output_type": "stream",
          "name": "stdout",
          "text": [
            "CGTTT 2 7\n"
          ]
        }
      ]
    },
    {
      "cell_type": "code",
      "source": [
        "s = \"ATCGTTTTTTCA\"\n",
        "m = re.finditer(r\"((C|G)+)T{3,}?\",s)\n",
        "if m:\n",
        "    for M in m:\n",
        "      print(M.group(),M.start(),M.end())\n",
        "      print(M.group(1))\n",
        "      print(M.group(2))\n",
        "else:\n",
        "    print(\"no\")"
      ],
      "metadata": {
        "id": "XBAfE_RmOw3R",
        "outputId": "dd6f6b62-25ac-4fce-96a8-6e37abe3e887",
        "colab": {
          "base_uri": "https://localhost:8080/"
        }
      },
      "execution_count": null,
      "outputs": [
        {
          "output_type": "stream",
          "name": "stdout",
          "text": [
            "CGTTT 2 7\n",
            "CG\n",
            "G\n"
          ]
        }
      ]
    },
    {
      "cell_type": "code",
      "source": [
        "s = \"ATCGTTTTTTCA\"\n",
        "m = re.finditer(r\"((?:C|G)+)T{3,}?\",s)\n",
        "if m:\n",
        "    for M in m:\n",
        "      print(M.group(),M.start(),M.end())\n",
        "      print(M.group(1))\n",
        "      # print(M.group(2)) DA ERRORE\n",
        "else:\n",
        "    print(\"no\")"
      ],
      "metadata": {
        "id": "NpcQT8DVPxhe",
        "outputId": "72b92df7-6f9c-48cf-f2ce-7a6a635a73c3",
        "colab": {
          "base_uri": "https://localhost:8080/"
        }
      },
      "execution_count": null,
      "outputs": [
        {
          "output_type": "stream",
          "name": "stdout",
          "text": [
            "CGTTT 2 7\n",
            "CG\n"
          ]
        }
      ]
    },
    {
      "cell_type": "markdown",
      "source": [
        "## FIND ALL"
      ],
      "metadata": {
        "id": "AjsC0XYoRYqe"
      }
    },
    {
      "cell_type": "code",
      "source": [
        "s = \"ATCGTTTTTTCA\"\n",
        "L = re.findall(r\"((C|G)+)T{3,}?\",s)\n",
        "if L:\n",
        "    for l in L:\n",
        "      print(l)\n",
        "      # print(M.group(),M.start(),M.end())\n",
        "      # print(M.group(1))\n",
        "      # print(M.group(2))\n",
        "else:\n",
        "    print(\"no\")\n",
        "\n",
        "    # mi restituisce i referencing inerenti alle parentesi in ordine--> se\n",
        "    # :? non usiamo referencing e mi restituisce pattern intero\n",
        "\n",
        "    # se noi vogliamo usare il find all devo togliere tutti i referencing\n",
        "    # se siamo obbligati ad usare i referencing non uso la find all"
      ],
      "metadata": {
        "id": "sj4HV_J4P_Ms",
        "outputId": "cf5dffc1-ce0c-4d5e-fa50-e3e2b0e0980e",
        "colab": {
          "base_uri": "https://localhost:8080/"
        }
      },
      "execution_count": null,
      "outputs": [
        {
          "output_type": "stream",
          "name": "stdout",
          "text": [
            "('CG', 'G')\n"
          ]
        }
      ]
    },
    {
      "cell_type": "code",
      "source": [
        "s = \"ATCGTTTTTTCA\"\n",
        "L = re.findall(r\"((?:C|G)+)(T{3,}?)\",s) # l'output della find all è una lista\n",
        "# se abbiamo sottopattern oppure un solo pattern è una stringa\n",
        "# nel caso ce ne siano di più ci restituisce una tupla con tonde (lista)\n",
        "if L:\n",
        "    for l in L:\n",
        "      print(list(l)) # in questo modo otteniamo un vettore\n",
        "      # print(M.group(),M.start(),M.end())\n",
        "      # print(M.group(1))\n",
        "      # print(M.group(2))\n",
        "else:\n",
        "    print(\"no\")"
      ],
      "metadata": {
        "id": "ic16QQ3qQ4Z1",
        "outputId": "19a55a1f-6c1f-4924-8f63-bb92aebfade1",
        "colab": {
          "base_uri": "https://localhost:8080/"
        }
      },
      "execution_count": null,
      "outputs": [
        {
          "output_type": "stream",
          "name": "stdout",
          "text": [
            "['CG', 'TTT']\n"
          ]
        }
      ]
    },
    {
      "cell_type": "code",
      "source": [
        "\n",
        "# espressione regolare che riconosca CDS o no\n",
        "\n",
        "# regole:\n",
        "# inizia con un codone di start (ATG)\n",
        "# finisco con un codone di stop (TAA,TGA,TAG) lunghezza multipla di 3 (altrimenti cerca a caso non seguendo il frame)\n",
        "cds = \"AUGGGGCCCUAA\"\n",
        "# mi basta la search perchè non devo cercare all'interno di un filamento ma solo validare se è una cds o no\n",
        "m = re.search(r\"^(AUG)[AUGC]+(UAA|UGA|UAG)$\",cds) # senza multiplo di 3\n",
        "m = re.search(r\"^(AUG)([AUGC]{3})+(UAA|UGA|UAG)$\",cds) # con ma sbagliato perchè anche \"ACC AGG ACC AGG, ha 3 spazi e sono multipli di 3\"\n",
        "if m:\n",
        "  print(\"trovata\")\n",
        "# M = re.finditer(r'ATG(?:[ATCG]{3})+?(?:TAA|TGA|TAG)', cds, overlapped = True)"
      ],
      "metadata": {
        "id": "5wdaA23ZReX3",
        "outputId": "c91f4e20-dd2d-4717-a7e1-ae2b1437f04f",
        "colab": {
          "base_uri": "https://localhost:8080/"
        }
      },
      "execution_count": null,
      "outputs": [
        {
          "output_type": "stream",
          "name": "stdout",
          "text": [
            "trovata\n"
          ]
        }
      ]
    },
    {
      "cell_type": "markdown",
      "source": [
        "## LOOKAHEAD LOOKBEHIND"
      ],
      "metadata": {
        "id": "XZATBtaiVYqr"
      }
    },
    {
      "cell_type": "code",
      "source": [
        "# RICERCANO PATTERN SOLO QUANDO SONO PRECEDUTI O PRECEDONO PATTERN\n",
        "\n",
        "# s = \"Bioinformatica\"\n",
        "# \"Bio(?=informatica)\" riconosco Bio solo quando è seguito da informatica\n",
        "# i vantaggi sono che la stringa del lookahead non viene consumata\n",
        "\n",
        "# ci sono anche i lookahead negativi\n",
        "# cerco bio tutte le volte che non è seguito da informatica\n",
        "# \"Bio(?!informatica)\"\n",
        "\n",
        "import re\n",
        "s = \"Bioinformatica e Biologia Sintetica\"\n",
        "M = re.finditer(r\"Bio(?=informatica)\",s) # questo mi trova Bio\n",
        "M = re.finditer(r\"Bio(?=informatica)informatica\",s) # mi trova esattamente Bioinformatica\n",
        "M = re.finditer(r\"Bio(?!informatica)[a-zA-Z]+\",s) # Biologia\n",
        "M = re.finditer(r\"Bio(?=informatica)[a-zA-Z]+\",s) # questo mi trova Bioinformatica e basta perchè sono esclusi gli spazi\n",
        "if M:\n",
        "  for m in M:\n",
        "    print(m.group())\n",
        "else:\n",
        "  print(\"non trovato\")\n",
        "\n",
        "  # la parola bioinformatica non è stata consumata nel pattern"
      ],
      "metadata": {
        "id": "zT4G_sEDVdCD",
        "outputId": "85f5310a-dc79-42c6-b0a1-fd3db8c80e7b",
        "colab": {
          "base_uri": "https://localhost:8080/"
        }
      },
      "execution_count": null,
      "outputs": [
        {
          "output_type": "stream",
          "name": "stdout",
          "text": [
            "Bioinformatica\n"
          ]
        }
      ]
    },
    {
      "cell_type": "markdown",
      "source": [
        "## **List comprension**"
      ],
      "metadata": {
        "id": "sJU5ca0qeN3C"
      }
    },
    {
      "cell_type": "code",
      "source": [
        "# crea delle liste a partire da un espressione generatrice\n",
        "fruits = [\"apple\", \"pear\", \"banana\" , \"cherry\"] # ricordo le virgole se no me le attacca\n",
        "\n",
        "newlist2 = [x for x in fruits if \"a\" in x] # espressione generatrice tra parentesi quadre\n",
        "print(newlist2)"
      ],
      "metadata": {
        "colab": {
          "base_uri": "https://localhost:8080/"
        },
        "id": "17Q4ydh7eQvE",
        "outputId": "71769d5b-3c3d-44ed-a7f2-7c10fbedface"
      },
      "execution_count": null,
      "outputs": [
        {
          "output_type": "stream",
          "name": "stdout",
          "text": [
            "['apple', 'pear', 'banana']\n"
          ]
        }
      ]
    },
    {
      "cell_type": "markdown",
      "source": [
        "# **LEGGIFASTA**"
      ],
      "metadata": {
        "id": "wxebQXL8cXXz"
      }
    },
    {
      "cell_type": "code",
      "source": [
        "################################################################################\n",
        "class Gene:\n",
        "  def __init__(self,name):\n",
        "    self.name = name\n",
        "    self.exons = []\n",
        "  def setSequence(self,sequence):\n",
        "    self.sequence = sequence\n",
        "\n",
        "  def setExons(self,exon):\n",
        "    self.exons.append(exon)\n",
        "################################################################################\n",
        "class E1:\n",
        "  def __init__(self,name):\n",
        "    self.name = name\n",
        "\n",
        "  def _getStringFromFASTA(self,customList):\n",
        "    indice_primo_invio = customList.find('\\n')\n",
        "\n",
        "    customList = customList[indice_primo_invio + 1:]\n",
        "    customString = ''.join(customList).replace('\\n', '').replace(' ', '')\n",
        "    return customString\n",
        "\n",
        "  def returnLength(self,gene):\n",
        "    if isinstance(gene, Gene):\n",
        "      print(\"Length of \" + gene.name +\" is \" + str(len(self._getStringFromFASTA(gene.sequence))))\n",
        "    else:\n",
        "      raise Exception(\"The variable is not a Gene type.\")\n",
        "\n",
        "################################################################################\n",
        "import pandas as pd\n",
        "\n",
        "def readFASTA(file_path):\n",
        "    # with Open function it doesn't work on GitHub, so we read the file as a csv\n",
        "    df = pd.read_csv(file_path, sep='\\t', header=None)\n",
        "    # Convert dataframe to string\n",
        "    file_contents = df.to_string(index=False, header=False)\n",
        "    # List from lines\n",
        "    lines = file_contents.split('\\n')\n",
        "    # Remove spaces\n",
        "    modified_lines = [lines[0]] + [line.replace(' ', '') for line in lines[1:]]\n",
        "    # Join the lines\n",
        "    result_string = '\\n'.join(modified_lines)\n",
        "    return result_string\n",
        "\n",
        "\n",
        "output_string = readFASTA(\"https://raw.githubusercontent.com/simonc999/Bioinformatics_python_project/main/eukaryotes/nanog/gene.fasta\")\n",
        "# print(output_string)\n",
        "\n",
        "esercitazione1 = E1(\"esercitazione1\")\n",
        "\n",
        "NANOG = Gene(\"NANOG\")\n",
        "NANOG.setSequence(readFASTA(\"https://raw.githubusercontent.com/simonc999/Bioinformatics_python_project/main/eukaryotes/nanog/gene.fasta\"))\n",
        "\n",
        "esercitazione1.returnLength(NANOG)\n"
      ],
      "metadata": {
        "colab": {
          "base_uri": "https://localhost:8080/"
        },
        "id": "msUy6CrKcgzE",
        "outputId": "6eb0ea6b-7f18-40f6-d2fc-cbe02ebbe6dc"
      },
      "execution_count": 21,
      "outputs": [
        {
          "output_type": "stream",
          "name": "stdout",
          "text": [
            "Length of NANOG is 9745\n"
          ]
        }
      ]
    }
  ]
}