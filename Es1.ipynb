{
  "nbformat": 4,
  "nbformat_minor": 0,
  "metadata": {
    "colab": {
      "provenance": [],
      "authorship_tag": "ABX9TyM7yDGI/e7Nu6EVKRWdXRYG",
      "include_colab_link": true
    },
    "kernelspec": {
      "name": "python3",
      "display_name": "Python 3"
    },
    "language_info": {
      "name": "python"
    }
  },
  "cells": [
    {
      "cell_type": "markdown",
      "metadata": {
        "id": "view-in-github",
        "colab_type": "text"
      },
      "source": [
        "<a href=\"https://colab.research.google.com/github/simonc999/Bioinformatics_python_project/blob/main/Es1.ipynb\" target=\"_parent\"><img src=\"https://colab.research.google.com/assets/colab-badge.svg\" alt=\"Open In Colab\"/></a>"
      ]
    },
    {
      "cell_type": "markdown",
      "source": [
        "# Progetto di bioinformatica\n"
      ],
      "metadata": {
        "id": "aKaRSsJxfoUc"
      }
    },
    {
      "cell_type": "markdown",
      "source": [
        "### Esercitazione 1\n",
        "Definiamo il codice genetico che codifica per gli amminoacidi."
      ],
      "metadata": {
        "id": "rCtDn4fwfvxq"
      }
    },
    {
      "cell_type": "code",
      "execution_count": null,
      "metadata": {
        "id": "nhHVGmavfY7_"
      },
      "outputs": [],
      "source": [
        "codoni_genetici = {\n",
        "    'TTT': 'Fenilalanina',\n",
        "    'TTC': 'Fenilalanina',\n",
        "    'TTA': 'Leucina',\n",
        "    'TTG': 'Leucina',\n",
        "    'CTT': 'Leucina',\n",
        "    'CTC': 'Leucina',\n",
        "    'CTA': 'Leucina',\n",
        "    'CTG': 'Leucina',\n",
        "    'ATT': 'Isoleucina',\n",
        "    'ATC': 'Isoleucina',\n",
        "    'ATA': 'Isoleucina',\n",
        "    'ATG': 'Metionina',\n",
        "    'GTT': 'Valina',\n",
        "    'GTC': 'Valina',\n",
        "    'GTA': 'Valina',\n",
        "    'GTG': 'Valina',\n",
        "    'TCT': 'Serina',\n",
        "    'TCC': 'Serina',\n",
        "    'TCA': 'Serina',\n",
        "    'TCG': 'Serina',\n",
        "    'CCT': 'Prolina',\n",
        "    'CCC': 'Prolina',\n",
        "    'CCA': 'Prolina',\n",
        "    'CCG': 'Prolina',\n",
        "    'ACT': 'Treonina',\n",
        "    'ACC': 'Treonina',\n",
        "    'ACA': 'Treonina',\n",
        "    'ACG': 'Treonina',\n",
        "    'GCT': 'Alanina',\n",
        "    'GCC': 'Alanina',\n",
        "    'GCA': 'Alanina',\n",
        "    'GCG': 'Alanina',\n",
        "    'TAT': 'Tirosina',\n",
        "    'TAC': 'Tirosina',\n",
        "    'TAA': 'Stop',\n",
        "    'TAG': 'Stop',\n",
        "    'CAT': 'Istidina',\n",
        "    'CAC': 'Istidina',\n",
        "    'CAA': 'Glutammina',\n",
        "    'CAG': 'Glutammina',\n",
        "    'AAT': 'Asparagina',\n",
        "    'AAC': 'Asparagina',\n",
        "    'AAA': 'Lisina',\n",
        "    'AAG': 'Lisina',\n",
        "    'GAT': 'Aspartato',\n",
        "    'GAC': 'Aspartato',\n",
        "    'GAA': 'Acido glutammico',\n",
        "    'GAG': 'Acido glutammico',\n",
        "    'TGT': 'Cisteina',\n",
        "    'TGC': 'Cisteina',\n",
        "    'TGA': 'Stop',\n",
        "    'TGG': 'Triptofano',\n",
        "    'CGT': 'Arginina',\n",
        "    'CGC': 'Arginina',\n",
        "    'CGA': 'Arginina',\n",
        "    'CGG': 'Arginina',\n",
        "    'AGT': 'Serina',\n",
        "    'AGC': 'Serina',\n",
        "    'AGA': 'Arginina',\n",
        "    'AGG': 'Arginina',\n",
        "    'GGT': 'Glicina',\n",
        "    'GGC': 'Glicina',\n",
        "    'GGA': 'Glicina',\n",
        "    'GGG': 'Glicina'\n",
        "}\n"
      ]
    },
    {
      "cell_type": "markdown",
      "source": [
        "Utilizzando NCBI è importante codificare i codoni con le lettere inerenti alle proteine utilizzate dalla convenzione del sito ufficiale NCBI."
      ],
      "metadata": {
        "id": "ZNRktTWfgDcG"
      }
    },
    {
      "cell_type": "code",
      "source": [
        "codoni_genetici_ncbi = {\n",
        "    'TTT': 'F',\n",
        "    'TTC': 'F',\n",
        "    'TTA': 'L',\n",
        "    'TTG': 'L',\n",
        "    'CTT': 'L',\n",
        "    'CTC': 'L',\n",
        "    'CTA': 'L',\n",
        "    'CTG': 'L',\n",
        "    'ATT': 'I',\n",
        "    'ATC': 'I',\n",
        "    'ATA': 'I',\n",
        "    'ATG': 'M',\n",
        "    'GTT': 'V',\n",
        "    'GTC': 'V',\n",
        "    'GTA': 'V',\n",
        "    'GTG': 'V',\n",
        "    'TCT': 'S',\n",
        "    'TCC': 'S',\n",
        "    'TCA': 'S',\n",
        "    'TCG': 'S',\n",
        "    'CCT': 'P',\n",
        "    'CCC': 'P',\n",
        "    'CCA': 'P',\n",
        "    'CCG': 'P',\n",
        "    'ACT': 'T',\n",
        "    'ACC': 'T',\n",
        "    'ACA': 'T',\n",
        "    'ACG': 'T',\n",
        "    'GCT': 'A',\n",
        "    'GCC': 'A',\n",
        "    'GCA': 'A',\n",
        "    'GCG': 'A',\n",
        "    'TAT': 'Y',\n",
        "    'TAC': 'Y',\n",
        "    'TAA': '*',\n",
        "    'TAG': '*',\n",
        "    'CAT': 'H',\n",
        "    'CAC': 'H',\n",
        "    'CAA': 'Q',\n",
        "    'CAG': 'Q',\n",
        "    'AAT': 'N',\n",
        "    'AAC': 'N',\n",
        "    'AAA': 'K',\n",
        "    'AAG': 'K',\n",
        "    'GAT': 'D',\n",
        "    'GAC': 'D',\n",
        "    'GAA': 'E',\n",
        "    'GAG': 'E',\n",
        "    'TGT': 'C',\n",
        "    'TGC': 'C',\n",
        "    'TGA': '*',\n",
        "    'TGG': 'W',\n",
        "    'CGT': 'R',\n",
        "    'CGC': 'R',\n",
        "    'CGA': 'R',\n",
        "    'CGG': 'R',\n",
        "    'AGT': 'S',\n",
        "    'AGC': 'S',\n",
        "    'AGA': 'R',\n",
        "    'AGG': 'R',\n",
        "    'GGT': 'G',\n",
        "    'GGC': 'G',\n",
        "    'GGA': 'G',\n",
        "    'GGG': 'G'\n",
        "}\n"
      ],
      "metadata": {
        "id": "M8FHkPHUgdCF"
      },
      "execution_count": null,
      "outputs": []
    },
    {
      "cell_type": "markdown",
      "source": [
        "#### Reverse complement\n",
        "Inseriamo la funzione per effettuare il reverse complement data una sequenza di DNA."
      ],
      "metadata": {
        "id": "5qP1q7dCggCQ"
      }
    },
    {
      "cell_type": "code",
      "source": [
        "def reverse_complement(dna_strand):\n",
        "    complement_dict = {'A': 'T', 'T': 'A', 'C': 'G', 'G': 'C'}\n",
        "    reverse_comp = ''.join(complement_dict[base] for base in reversed(dna_strand))\n",
        "    return reverse_comp"
      ],
      "metadata": {
        "id": "lIEPoA01g0kY"
      },
      "execution_count": null,
      "outputs": []
    },
    {
      "cell_type": "markdown",
      "source": [
        "## Utilizzo di re\n"
      ],
      "metadata": {
        "id": "96PK17hpgYRY"
      }
    },
    {
      "cell_type": "code",
      "source": [
        "import re\n",
        "# re.search(\"pattern\", string) # output è un oggetto Match\n",
        "# re.match(\"pattern\", string) # uguale a search, ma il match deve essere nell’intera stringa\n",
        "# re.finditer(\"pattern\", string) # output è una lista di oggetti Match\n",
        "# re.findall(\"pattern\", string) # output è una lista di stringhe relative al pattern trovato\n",
        "# re.split(\"pattern\", string) # output è una lista di stringhe delimitate dal pattern\n",
        "\n",
        "# Esempio di ricerca pattern\n",
        "dna = \"ATCGCGAATTCAC\"\n",
        "\n",
        "if re.search(r\"GAATTC\", dna): # stringa esatta\n",
        "  print(\"EcoRI restriction site found!\")\n",
        "if re.search(r\"GGACC\", dna) or re.search(r\"GGTCC\", dna): # pattern GGWCC (W significa A o T)\n",
        "# Oppure si sfruttano le potenzialità di re per ottenere delle espressioni equivalenti:\n",
        "# \"GG(A|T)CC“ \"GG[AT]CC\" \"(GGACC|GGTCC)\" \"(GGA|GGT)CC\"\n",
        "\n",
        "# computazionalmente più efficacie\n",
        "  print(\"restriction site found!\")\n"
      ],
      "metadata": {
        "id": "Ndqy1bRUgqZC",
        "outputId": "c5c6104b-fb0b-45d2-bff9-3f58779aec14",
        "colab": {
          "base_uri": "https://localhost:8080/"
        }
      },
      "execution_count": 1,
      "outputs": [
        {
          "output_type": "stream",
          "name": "stdout",
          "text": [
            "EcoRI restriction site found!\n"
          ]
        }
      ]
    },
    {
      "cell_type": "code",
      "source": [
        "# Ora vediamo come si usano caratteri chiave per espressioni regolari\n",
        "\n",
        "# Operatori posizionali\n",
        "# ^ ci permette di cercare patern imponendo che sia all'inizio della stringa\n",
        "# $ me lo cerca alla fine\n",
        "import re\n",
        "s = \"ATCCGAAAAATCGCAC\"\n",
        "m = re.search(r\"^ATCC\",s)\n",
        "m1 = re.search(r\"GCAC$\",s)\n",
        "if m:\n",
        "  print(m.group(), m.start(), m.end())\n",
        "if m1:\n",
        "  print(m1.group(), m1.start(), m1.end())\n",
        "\n",
        "\n"
      ],
      "metadata": {
        "id": "SixV7I_Khrvv",
        "outputId": "44c7c499-7cb6-4f5f-c605-a82681ae3261",
        "colab": {
          "base_uri": "https://localhost:8080/"
        }
      },
      "execution_count": 6,
      "outputs": [
        {
          "output_type": "stream",
          "name": "stdout",
          "text": [
            "ATCC 0 4\n"
          ]
        }
      ]
    },
    {
      "cell_type": "code",
      "source": [
        "\n",
        "# se voglio fare entrambi posso o fare and (ma computazionalmente più scarso)\n",
        "s = \"ATCCGAAAAATCGCAC\"\n",
        "m = re.search(r\"^ATCC([ATCG])CAC$\",s) # se faccio ([ATCG]) definisco un solo carattere tra ATCG, devo metterci i quantificatori\n",
        "m1 = re.search(r\"$GCAC\",s)\n",
        "if m:\n",
        "  print(m.group(), m.start(), m.end())\n",
        "\n",
        "# quantificatori\n",
        "# + almeno 1\n",
        "# * 0-inf\n",
        "# ? 0 o 1\n",
        "# e numerosità che può essere esatta {5} oppure range {2,5} oppure {2,} {,5}\n",
        "\n",
        "# aggiungo quindi *\n",
        "s = \"ATCCGAAAAATCGCAC\"\n",
        "m = re.search(r\"^ATCC([ATCG])*CAC$\",s)\n",
        "m1 = re.search(r\"$GCAC\",s)\n",
        "if m:\n",
        "  print(m.group(), m.start(), m.end())"
      ],
      "metadata": {
        "id": "V6q0bRFEh4Yn"
      },
      "execution_count": 3,
      "outputs": []
    },
    {
      "cell_type": "code",
      "source": [
        "# proteine\n",
        "p = \"MATKAKKKGHLIKTLVA\"\n",
        "# i caratteri illegali sono BJOUXZ\n",
        "# se trovo almeno un carattere di questi la proteina non è scritta bene\n",
        "# usiamo la negazione dell'insieme e verifico se è presente\n",
        "m = re.search(r\"^[^BJOUXZ]+$\",p)\n",
        "# [BJOUXZ] vero se ritrovo un carattere tra questi\n",
        "# [^BJOUXZ] vero se ritrovo un carattere NON tra questi\n",
        "# ^[^BJOUXZ] vero se ritrovo un carattere non tra questi che inizia DALL'INIZIO\n",
        "# ^[^BJOUXZ]+ vero se ritrovo ALMENO un carattere non tra questi che inizia dall'inizio\n",
        "# ^[^BJOUXZ]+$ vero se ritrovo almeno un carattere non tra questi che inizia dall'inizio e termina alla fine\n",
        "if m:\n",
        "  print(\"ok\" , m.group())\n",
        "else:\n",
        "  print(\"no\")\n"
      ],
      "metadata": {
        "id": "tToLHKL5l_1D",
        "outputId": "e70e0d65-f2d2-476c-afbd-107440e70f19",
        "colab": {
          "base_uri": "https://localhost:8080/"
        }
      },
      "execution_count": 10,
      "outputs": [
        {
          "output_type": "stream",
          "name": "stdout",
          "text": [
            "ok\n"
          ]
        }
      ]
    },
    {
      "cell_type": "code",
      "source": [
        "s = \"ATCGTTTTTCAC\"\n",
        "# ipotizziamo di essere interessati di trovare un pattern con T da 3 in su\n",
        "M = re.finditer(r\"T{2}\",s) # qua cerca le coppie di T\n",
        "# ATTENZIONE: i pattern non si possono sovrapporre, ogni volta che trovo un pattern lo \"consumo\"\n",
        "if M:\n",
        "  for m in M:\n",
        "    print(m.group(),m.start(), m.end())\n",
        "else:\n",
        "  print(\"non lo trovo\")\n",
        "\n",
        "# con la search avrebbe trovato solo il primo\n",
        "\n"
      ],
      "metadata": {
        "id": "qlai-RiDp1FT",
        "outputId": "de77bb47-da7f-4b26-ef1c-9d01a31a24dd",
        "colab": {
          "base_uri": "https://localhost:8080/"
        }
      },
      "execution_count": 12,
      "outputs": [
        {
          "output_type": "stream",
          "name": "stdout",
          "text": [
            "TT 4 6\n",
            "TT 6 8\n"
          ]
        }
      ]
    },
    {
      "cell_type": "code",
      "source": [
        "s = \"ATCGTTTTTTCAC\"\n",
        "\n",
        "M = re.search(r\"T{3,}\",s)\n",
        "if M:\n",
        "    print(M.group(),M.start(),M.end())\n",
        "else:\n",
        "  print(\"non lo trovo\")\n",
        "\n",
        "# i quantificatori di python sono greedy: trovano in questo caso il più lungo\n",
        "# per evitare questa cosa usiamo ? a valle del quantificatore stesso trasformandolo in non greedy\n"
      ],
      "metadata": {
        "id": "EE7kxeiPr1BX",
        "outputId": "04f35419-87d0-4b39-b141-f17652b6aa7d",
        "colab": {
          "base_uri": "https://localhost:8080/"
        }
      },
      "execution_count": 13,
      "outputs": [
        {
          "output_type": "stream",
          "name": "stdout",
          "text": [
            "TTTTT 4 9\n"
          ]
        }
      ]
    },
    {
      "cell_type": "code",
      "source": [
        "s = \"ATCGTTTTTTCAC\"\n",
        "\n",
        "# quantificatori NON GREEDY\n",
        "# +? almeno 1\n",
        "# *? 0-inf\n",
        "# ?? 0 o 1\n",
        "# e numerosità che può essere esatta {5}? oppure range {2,5}? oppure {2,}? {,5}?\n",
        "M = re.finditer(r\"T{3,}?\",s) # qua cerca TUTTI i pattern di T almeno di 3\n",
        "if M:\n",
        "  for m in M:\n",
        "    print(m.group(),m.start(), m.end())\n",
        "else:\n",
        "  print(\"non lo trovo\")"
      ],
      "metadata": {
        "id": "6j-YPdyBsT88",
        "outputId": "2f6d2d75-808c-4189-eda3-b59df1c59daa",
        "colab": {
          "base_uri": "https://localhost:8080/"
        }
      },
      "execution_count": 16,
      "outputs": [
        {
          "output_type": "stream",
          "name": "stdout",
          "text": [
            "TTT 4 7\n",
            "TTT 7 10\n"
          ]
        }
      ]
    },
    {
      "cell_type": "code",
      "source": [
        "# REFERENCING\n",
        "# ci permette di richiamare pattern che io cerco all'interno di una stringa\n",
        "# se io voglio riconoscere una stringa in cui c'è un'identità\n",
        "import re\n",
        "s = \"x=x\"\n",
        "m = re.search(r\"[A-Za-z]=[A-Za-z]\",s)\n",
        "if m:\n",
        "  print(\"ok\" , m.group())"
      ],
      "metadata": {
        "id": "P3mzdbcytVoL",
        "outputId": "3076ea9e-3b38-4465-d449-b5b822b3c97b",
        "colab": {
          "base_uri": "https://localhost:8080/"
        }
      },
      "execution_count": 18,
      "outputs": [
        {
          "output_type": "stream",
          "name": "stdout",
          "text": [
            "ok x=y\n"
          ]
        }
      ]
    },
    {
      "cell_type": "code",
      "source": [
        "s = \"x=y\"\n",
        "m = re.search(r\"[A-Za-z]=[A-Za-z]\",s)\n",
        "if m:\n",
        "  print(\"ok\" , m.group())"
      ],
      "metadata": {
        "id": "6_jQrMaGt5eZ",
        "outputId": "57b3a510-ee64-43dc-957a-da152118fc45",
        "colab": {
          "base_uri": "https://localhost:8080/"
        }
      },
      "execution_count": 19,
      "outputs": [
        {
          "output_type": "stream",
          "name": "stdout",
          "text": [
            "ok x=y\n"
          ]
        }
      ]
    },
    {
      "cell_type": "code",
      "source": [
        "# COME FACCIO A TROVARE CHE IL PRIMO = SECONDO?\n",
        "# uso referencing: operatore \\ e poi numero\n",
        "\n",
        "s = \"x=x\"\n",
        "m = re.search(r\"([A-Za-z])=\\1\",s) # con il \\1 faccio riferimento al primo carattere interno alle parentesi tonde\n",
        "if m:\n",
        "  print(\"1--ok\" , m.group())\n",
        "\n",
        "s = \"x=y\"\n",
        "m = re.search(r\"([A-Za-z])=\\1\",s)\n",
        "if m:\n",
        "  print(\"ok\" , m.group())\n",
        "else:\n",
        "    print(\"2--no\")"
      ],
      "metadata": {
        "id": "8rICmyYut8kc",
        "outputId": "73fa3e01-e4d0-4b1b-934e-ae1b74902b19",
        "colab": {
          "base_uri": "https://localhost:8080/"
        }
      },
      "execution_count": 23,
      "outputs": [
        {
          "output_type": "stream",
          "name": "stdout",
          "text": [
            "ok x=x\n",
            "no\n"
          ]
        }
      ]
    },
    {
      "cell_type": "code",
      "source": [
        "# come faccio ad usare parentesi senza che si conteggino con il referencing?\n",
        "# usiamo il ?: esattamente dopo una tonda\n",
        "s = \"Ax=x\"\n",
        "m = re.search(r\"A([A-Za-z])=\\1\",s)\n",
        "if m:\n",
        "  print(\"ok\" , m.group())\n",
        "else:\n",
        "    print(\"2--no\")"
      ],
      "metadata": {
        "id": "8Ud6Sd3Cu1ST",
        "outputId": "757a9622-fb14-416c-830b-016bab2d40f3",
        "colab": {
          "base_uri": "https://localhost:8080/"
        }
      },
      "execution_count": 24,
      "outputs": [
        {
          "output_type": "stream",
          "name": "stdout",
          "text": [
            "ok Ax=x\n"
          ]
        }
      ]
    },
    {
      "cell_type": "code",
      "source": [
        "s = \"Ax=x\"\n",
        "m = re.search(r\"(A|B)([A-Za-z])=\\1\",s)\n",
        "if m:\n",
        "  print(\"ok\" , m.group())\n",
        "else:\n",
        "    print(\"2--no\") # mi da no perchè prende la prima parentesi"
      ],
      "metadata": {
        "id": "RqSyq3jTvTdT",
        "outputId": "3d96756c-1a39-40b7-b3ce-4f828f74678b",
        "colab": {
          "base_uri": "https://localhost:8080/"
        }
      },
      "execution_count": 25,
      "outputs": [
        {
          "output_type": "stream",
          "name": "stdout",
          "text": [
            "2--no\n"
          ]
        }
      ]
    },
    {
      "cell_type": "code",
      "source": [
        "s = \"Ax=x\"\n",
        "m = re.search(r\"(?:A|B)([A-Za-z])=\\1\",s) # facendo così posso ovviare\n",
        "if m:\n",
        "  print(\"ok\" , m.group())\n",
        "else:\n",
        "    print(\"2--no\")"
      ],
      "metadata": {
        "id": "qjOayNtGvcsy",
        "outputId": "5c8ff06d-a930-4d4a-b3a1-cd3b12a1abe9",
        "colab": {
          "base_uri": "https://localhost:8080/"
        }
      },
      "execution_count": 26,
      "outputs": [
        {
          "output_type": "stream",
          "name": "stdout",
          "text": [
            "ok Ax=x\n"
          ]
        }
      ]
    },
    {
      "cell_type": "code",
      "source": [
        "# posso anche stampare un sotto-pattern\n",
        "s = \"Ax=x\"\n",
        "m = re.search(r\"(?:A|B)([A-Za-z])=\\1\",s) # facendo così posso ovviare\n",
        "if m:\n",
        "  print(\"ok\" , m.group(1))\n",
        "else:\n",
        "    print(\"2--no\")"
      ],
      "metadata": {
        "id": "yNcH_4H8wnHb",
        "outputId": "5a6cef4f-f14f-4e59-abf2-bd704566050e",
        "colab": {
          "base_uri": "https://localhost:8080/"
        }
      },
      "execution_count": 27,
      "outputs": [
        {
          "output_type": "stream",
          "name": "stdout",
          "text": [
            "ok x\n"
          ]
        }
      ]
    }
  ]
}