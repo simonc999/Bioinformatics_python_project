{
  "nbformat": 4,
  "nbformat_minor": 0,
  "metadata": {
    "colab": {
      "provenance": [],
      "authorship_tag": "ABX9TyP83AMEKIdeBHRv3vwn+PAr",
      "include_colab_link": true
    },
    "kernelspec": {
      "name": "python3",
      "display_name": "Python 3"
    },
    "language_info": {
      "name": "python"
    }
  },
  "cells": [
    {
      "cell_type": "markdown",
      "metadata": {
        "id": "view-in-github",
        "colab_type": "text"
      },
      "source": [
        "<a href=\"https://colab.research.google.com/github/simonc999/Bioinformatics_python_project/blob/main/Es1.ipynb\" target=\"_parent\"><img src=\"https://colab.research.google.com/assets/colab-badge.svg\" alt=\"Open In Colab\"/></a>"
      ]
    },
    {
      "cell_type": "markdown",
      "source": [
        "# Progetto di bioinformatica\n"
      ],
      "metadata": {
        "id": "aKaRSsJxfoUc"
      }
    },
    {
      "cell_type": "markdown",
      "source": [
        "### Esercitazione 1\n",
        "Definiamo il codice genetico che codifica per gli amminoacidi."
      ],
      "metadata": {
        "id": "rCtDn4fwfvxq"
      }
    },
    {
      "cell_type": "code",
      "execution_count": null,
      "metadata": {
        "id": "nhHVGmavfY7_"
      },
      "outputs": [],
      "source": [
        "codoni_genetici = {\n",
        "    'TTT': 'Fenilalanina',\n",
        "    'TTC': 'Fenilalanina',\n",
        "    'TTA': 'Leucina',\n",
        "    'TTG': 'Leucina',\n",
        "    'CTT': 'Leucina',\n",
        "    'CTC': 'Leucina',\n",
        "    'CTA': 'Leucina',\n",
        "    'CTG': 'Leucina',\n",
        "    'ATT': 'Isoleucina',\n",
        "    'ATC': 'Isoleucina',\n",
        "    'ATA': 'Isoleucina',\n",
        "    'ATG': 'Metionina',\n",
        "    'GTT': 'Valina',\n",
        "    'GTC': 'Valina',\n",
        "    'GTA': 'Valina',\n",
        "    'GTG': 'Valina',\n",
        "    'TCT': 'Serina',\n",
        "    'TCC': 'Serina',\n",
        "    'TCA': 'Serina',\n",
        "    'TCG': 'Serina',\n",
        "    'CCT': 'Prolina',\n",
        "    'CCC': 'Prolina',\n",
        "    'CCA': 'Prolina',\n",
        "    'CCG': 'Prolina',\n",
        "    'ACT': 'Treonina',\n",
        "    'ACC': 'Treonina',\n",
        "    'ACA': 'Treonina',\n",
        "    'ACG': 'Treonina',\n",
        "    'GCT': 'Alanina',\n",
        "    'GCC': 'Alanina',\n",
        "    'GCA': 'Alanina',\n",
        "    'GCG': 'Alanina',\n",
        "    'TAT': 'Tirosina',\n",
        "    'TAC': 'Tirosina',\n",
        "    'TAA': 'Stop',\n",
        "    'TAG': 'Stop',\n",
        "    'CAT': 'Istidina',\n",
        "    'CAC': 'Istidina',\n",
        "    'CAA': 'Glutammina',\n",
        "    'CAG': 'Glutammina',\n",
        "    'AAT': 'Asparagina',\n",
        "    'AAC': 'Asparagina',\n",
        "    'AAA': 'Lisina',\n",
        "    'AAG': 'Lisina',\n",
        "    'GAT': 'Aspartato',\n",
        "    'GAC': 'Aspartato',\n",
        "    'GAA': 'Acido glutammico',\n",
        "    'GAG': 'Acido glutammico',\n",
        "    'TGT': 'Cisteina',\n",
        "    'TGC': 'Cisteina',\n",
        "    'TGA': 'Stop',\n",
        "    'TGG': 'Triptofano',\n",
        "    'CGT': 'Arginina',\n",
        "    'CGC': 'Arginina',\n",
        "    'CGA': 'Arginina',\n",
        "    'CGG': 'Arginina',\n",
        "    'AGT': 'Serina',\n",
        "    'AGC': 'Serina',\n",
        "    'AGA': 'Arginina',\n",
        "    'AGG': 'Arginina',\n",
        "    'GGT': 'Glicina',\n",
        "    'GGC': 'Glicina',\n",
        "    'GGA': 'Glicina',\n",
        "    'GGG': 'Glicina'\n",
        "}\n"
      ]
    },
    {
      "cell_type": "markdown",
      "source": [
        "Utilizzando NCBI è importante codificare i codoni con le lettere inerenti alle proteine utilizzate dalla convenzione del sito ufficiale NCBI."
      ],
      "metadata": {
        "id": "ZNRktTWfgDcG"
      }
    },
    {
      "cell_type": "code",
      "source": [
        "codoni_genetici_ncbi = {\n",
        "    'TTT': 'F',\n",
        "    'TTC': 'F',\n",
        "    'TTA': 'L',\n",
        "    'TTG': 'L',\n",
        "    'CTT': 'L',\n",
        "    'CTC': 'L',\n",
        "    'CTA': 'L',\n",
        "    'CTG': 'L',\n",
        "    'ATT': 'I',\n",
        "    'ATC': 'I',\n",
        "    'ATA': 'I',\n",
        "    'ATG': 'M',\n",
        "    'GTT': 'V',\n",
        "    'GTC': 'V',\n",
        "    'GTA': 'V',\n",
        "    'GTG': 'V',\n",
        "    'TCT': 'S',\n",
        "    'TCC': 'S',\n",
        "    'TCA': 'S',\n",
        "    'TCG': 'S',\n",
        "    'CCT': 'P',\n",
        "    'CCC': 'P',\n",
        "    'CCA': 'P',\n",
        "    'CCG': 'P',\n",
        "    'ACT': 'T',\n",
        "    'ACC': 'T',\n",
        "    'ACA': 'T',\n",
        "    'ACG': 'T',\n",
        "    'GCT': 'A',\n",
        "    'GCC': 'A',\n",
        "    'GCA': 'A',\n",
        "    'GCG': 'A',\n",
        "    'TAT': 'Y',\n",
        "    'TAC': 'Y',\n",
        "    'TAA': '*',\n",
        "    'TAG': '*',\n",
        "    'CAT': 'H',\n",
        "    'CAC': 'H',\n",
        "    'CAA': 'Q',\n",
        "    'CAG': 'Q',\n",
        "    'AAT': 'N',\n",
        "    'AAC': 'N',\n",
        "    'AAA': 'K',\n",
        "    'AAG': 'K',\n",
        "    'GAT': 'D',\n",
        "    'GAC': 'D',\n",
        "    'GAA': 'E',\n",
        "    'GAG': 'E',\n",
        "    'TGT': 'C',\n",
        "    'TGC': 'C',\n",
        "    'TGA': '*',\n",
        "    'TGG': 'W',\n",
        "    'CGT': 'R',\n",
        "    'CGC': 'R',\n",
        "    'CGA': 'R',\n",
        "    'CGG': 'R',\n",
        "    'AGT': 'S',\n",
        "    'AGC': 'S',\n",
        "    'AGA': 'R',\n",
        "    'AGG': 'R',\n",
        "    'GGT': 'G',\n",
        "    'GGC': 'G',\n",
        "    'GGA': 'G',\n",
        "    'GGG': 'G'\n",
        "}\n"
      ],
      "metadata": {
        "id": "M8FHkPHUgdCF"
      },
      "execution_count": null,
      "outputs": []
    },
    {
      "cell_type": "markdown",
      "source": [
        "#### Reverse complement\n",
        "Inseriamo la funzione per effettuare il reverse complement data una sequenza di DNA."
      ],
      "metadata": {
        "id": "5qP1q7dCggCQ"
      }
    },
    {
      "cell_type": "code",
      "source": [
        "def reverse_complement(dna_strand):\n",
        "    complement_dict = {'A': 'T', 'T': 'A', 'C': 'G', 'G': 'C'}\n",
        "    reverse_comp = ''.join(complement_dict[base] for base in reversed(dna_strand))\n",
        "    return reverse_comp"
      ],
      "metadata": {
        "id": "lIEPoA01g0kY"
      },
      "execution_count": null,
      "outputs": []
    }
  ]
}